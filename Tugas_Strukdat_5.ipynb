{
  "nbformat": 4,
  "nbformat_minor": 0,
  "metadata": {
    "colab": {
      "provenance": [],
      "authorship_tag": "ABX9TyPM3uQ3AXknqFETNz9S3A2q",
      "include_colab_link": true
    },
    "kernelspec": {
      "name": "python3",
      "display_name": "Python 3"
    },
    "language_info": {
      "name": "python"
    }
  },
  "cells": [
    {
      "cell_type": "markdown",
      "metadata": {
        "id": "view-in-github",
        "colab_type": "text"
      },
      "source": [
        "<a href=\"https://colab.research.google.com/github/luluatina/Praktikum-Struktur-Data-5_Struktur-Data-Searching/blob/main/Tugas_Strukdat_5.ipynb\" target=\"_parent\"><img src=\"https://colab.research.google.com/assets/colab-badge.svg\" alt=\"Open In Colab\"/></a>"
      ]
    },
    {
      "cell_type": "code",
      "execution_count": null,
      "metadata": {
        "colab": {
          "base_uri": "https://localhost:8080/"
        },
        "id": "0jKMToVZd0wC",
        "outputId": "9394ddca-ac3c-48c1-d973-a3836608e64b"
      },
      "outputs": [
        {
          "output_type": "stream",
          "name": "stdout",
          "text": [
            "Target: 482\n",
            "Linear Search: Index 50, Comparisons 51\n",
            "Binary Search: Index 50, Comparisons 6\n",
            "Jump Search: Index 50, Comparisons 6\n"
          ]
        }
      ],
      "source": [
        "import random\n",
        "import math\n",
        "\n",
        "def linear_search(arr, target):\n",
        "    comparisons = 0\n",
        "    for i in range(len(arr)):\n",
        "        comparisons += 1\n",
        "        if arr[i] == target:\n",
        "            return i, comparisons\n",
        "    return -1, comparisons\n",
        "\n",
        "def binary_search(arr, target):\n",
        "    low, high = 0, len(arr) - 1\n",
        "    comparisons = 0\n",
        "\n",
        "    while low <= high:\n",
        "        comparisons += 1\n",
        "        mid = (low + high) // 2\n",
        "        if arr[mid] == target:\n",
        "            return mid, comparisons\n",
        "        elif arr[mid] < target:\n",
        "            low = mid + 1\n",
        "        else:\n",
        "            high = mid - 1\n",
        "    return -1, comparisons\n",
        "\n",
        "def jump_search(arr, target):\n",
        "    length = len(arr)\n",
        "    step = int(math.sqrt(length))\n",
        "    prev, comparisons = 0, 0\n",
        "\n",
        "    while prev < length and arr[min(step, length) - 1] < target:\n",
        "        comparisons += 1\n",
        "        prev = step\n",
        "        step += int(math.sqrt(length))\n",
        "        if prev >= length:\n",
        "            return -1, comparisons\n",
        "\n",
        "    for i in range(prev, min(step, length)):\n",
        "        comparisons += 1\n",
        "        if arr[i] == target:\n",
        "            return i, comparisons\n",
        "    return -1, comparisons\n",
        "\n",
        "# 1. Buat daftar berisi 100 angka acak dalam rentang 1-1000\n",
        "random_numbers = random.sample(range(1, 1001), 100)\n",
        "\n",
        "# 2. Simpan angka dalam array dan urutkan\n",
        "sorted_numbers = sorted(random_numbers)\n",
        "\n",
        "# 3. Tentukan angka target (menggunakan elemen tengah)\n",
        "target = sorted_numbers[len(sorted_numbers) // 2]\n",
        "\n",
        "# Lakukan pencarian dan hitung jumlah perbandingan\n",
        "lin_result, lin_comp = linear_search(sorted_numbers, target)\n",
        "bin_result, bin_comp = binary_search(sorted_numbers, target)\n",
        "jump_result, jump_comp = jump_search(sorted_numbers, target)\n",
        "\n",
        "# Cetak hasil\n",
        "print(f\"Target: {target}\")\n",
        "print(f\"Linear Search: Index {lin_result}, Comparisons {lin_comp}\")\n",
        "print(f\"Binary Search: Index {bin_result}, Comparisons {bin_comp}\")\n",
        "print(f\"Jump Search: Index {jump_result}, Comparisons {jump_comp}\")\n"
      ]
    }
  ]
}